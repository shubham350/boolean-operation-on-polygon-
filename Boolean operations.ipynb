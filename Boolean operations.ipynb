{
 "cells": [
  {
   "cell_type": "code",
   "execution_count": 1,
   "metadata": {},
   "outputs": [],
   "source": [
    "#elementary function for the algorithm  \n",
    "\n",
    "def Area(a,b,c):\n",
    "    return (0.5*((b[0]-a[0])*(c[1]-a[1])-(c[0]-a[0])*(b[1]-a[1])))\n",
    "\n",
    "def Left(a,b,c):\n",
    "    return Area(a,b,c) > 0\n",
    "\n",
    "def Collinear(a,b,c):\n",
    "    return Area(a,b,c) == 0\n",
    "\n",
    "def Intersection(a,b,c,d):\n",
    "    return (Left(a,b,c)^Left(a,b,d)) and (Left(c,d,a)^Left(c,d,b))\n",
    "\n",
    "def Point_int(a,b,c,d):\n",
    "    t2 = ((a[0]-b[0])*(a[1]-c[1])-(a[0]-c[0])*(a[0]-c[0]))/((c[0]-d[0])*(a[1]-b[1])-(c[1]-d[1])*(a[0]-b[0]))\n",
    "    [i1,i2]= [(1-t2)*c[0]+t2*d[0],(1-t2)*c[1]+t2*d[1]]\n",
    "    return [i1,i2]"
   ]
  },
  {
   "cell_type": "code",
   "execution_count": 2,
   "metadata": {},
   "outputs": [
    {
     "name": "stdout",
     "output_type": "stream",
     "text": [
      "[[-2.0, 0.0], [0.0, 2.0], [2.0, 0.0], [0.0, -2.0], [-2.0, 0.0]]\n"
     ]
    }
   ],
   "source": [
    "#used for reading the file with polygon vertices\n",
    "\n",
    "def poly(ch):\n",
    "    fhand =  open(ch)\n",
    "    pol = []\n",
    "    for line in fhand:\n",
    "        x = line.split(',')\n",
    "        y = []\n",
    "        for i in x:\n",
    "            i.rstrip('\\n')\n",
    "            i = float(i)\n",
    "            y.append(i)\n",
    "        pol.append(y)\n",
    "    return pol\n",
    "\n",
    "p1 = poly('polygon3')\n",
    "p1.append(p1[0])\n",
    "print(p1)\n",
    "p2 = poly('polygon4')\n",
    "p2.append(p2[0])"
   ]
  },
  {
   "cell_type": "code",
   "execution_count": 3,
   "metadata": {},
   "outputs": [
    {
     "name": "stdout",
     "output_type": "stream",
     "text": [
      "[[2, 1, [1.0, 1.0]], [4, 5, [1.0, -1.0]]]\n",
      "[[-2.0, 0.0], [0.0, 2.0], [1.0, 1.0], [2.0, 0.0], [1.0, -1.0], [0.0, -2.0], [-2.0, 0.0]]\n"
     ]
    }
   ],
   "source": [
    "#finding points of intersection in polygon and updating the list of vertices \n",
    "\n",
    "int1 = []\n",
    "count = 0\n",
    "for i in range(len(p1)-1):\n",
    "    for j in range(len(p2)-1):\n",
    "        if Intersection(p1[i],p1[i+1],p2[j],p2[j+1]):\n",
    "            a = Point_int(p1[i],p1[i+1],p2[j],p2[j+1])\n",
    "            int1.append([i+1+count,j+1+count ,a])\n",
    "            count=count+1\n",
    "            #print(count)\n",
    "            #print(int1)\n",
    "\n",
    "print(int1)\n",
    "for isc in int1:\n",
    "    p1.insert(isc[0],isc[2])\n",
    "    p2.insert(isc[1],isc[2])\n",
    "    \n",
    "print(p1)"
   ]
  },
  {
   "cell_type": "code",
   "execution_count": null,
   "metadata": {},
   "outputs": [],
   "source": [
    "#point inside or outside of polygon \n",
    "\n",
    "def is_point_in_path(x: int, y: int, poly) -> bool:\n",
    "    # Determine if the point is in the polygon.\n",
    "    #\n",
    "    # Args:\n",
    "    #   x -- The x coordinates of point.\n",
    "    #   y -- The y coordinates of point.\n",
    "    #   poly -- a list of tuples [(x, y), (x, y), ...]\n",
    "    #\n",
    "    # Returns:\n",
    "    #   True if the point is in the path or is a corner or on the boundary\n",
    "     \n",
    "        num = len(poly)\n",
    "        j = num - 1\n",
    "        c = False\n",
    "        for i in range(num):\n",
    "            if (x == poly[i][0]) and (y == poly[i][1]):\n",
    "                # point is a corner\n",
    "                return True\n",
    "            if ((poly[i][1] > y) != (poly[j][1] > y)):\n",
    "                slope = (x-poly[i][0])*(poly[j][1]-poly[i][1])-(poly[j][0]-poly[i][0])*(y-poly[i][1])\n",
    "                if slope == 0:\n",
    "                    # point is on boundary\n",
    "                    return True\n",
    "                if (slope < 0) != (poly[j][1] < poly[i][1]):\n",
    "                    c = not c\n",
    "            j = i\n",
    "        return c"
   ]
  },
  {
   "cell_type": "code",
   "execution_count": 4,
   "metadata": {},
   "outputs": [
    {
     "name": "stdout",
     "output_type": "stream",
     "text": [
      "[[1.0, 1.0], [0.0, 2.0], [-2.0, 0.0], [-2.0, 0.0], [0.0, -2.0], [1.0, -1.0], [2.0, -2.0], [4.0, 0.0], [2.0, 2.0], [1.0, 1.0]]\n"
     ]
    }
   ],
   "source": [
    "#union of polygon \n",
    "\n",
    "pt_int = [int1[0][2],int1[1][2]]\n",
    "\n",
    "union = [pt_int[0]]\n",
    "i = p1.index(pt_int[0])\n",
    "p = p1[i-1]\n",
    "j = 1\n",
    "while p not in pt_int:\n",
    "    union.append(p)\n",
    "    j = j+1\n",
    "    p = p1[i-j]\n",
    "    \n",
    "union.append(p)\n",
    "\n",
    "k = p2.index(p)\n",
    "p = p2[k-1]\n",
    "j = 1\n",
    "while p not in pt_int:\n",
    "    union.append(p)\n",
    "    j = j+1\n",
    "    p = p2[k-j]\n",
    "    \n",
    "union.append(p)\n",
    "print(union)"
   ]
  },
  {
   "cell_type": "code",
   "execution_count": 5,
   "metadata": {},
   "outputs": [
    {
     "name": "stdout",
     "output_type": "stream",
     "text": [
      "[[1.0, 1.0], [2.0, 0.0], [1.0, -1.0], [0.0, 0.0], [0.0, 0.0], [1.0, 1.0]]\n"
     ]
    }
   ],
   "source": [
    "#intersection\n",
    "\n",
    "pt_int = [int1[0][2],int1[1][2]]\n",
    "\n",
    "intersection = [pt_int[0]]\n",
    "i = p1.index(pt_int[0])\n",
    "p = p1[i+1]\n",
    "j = 1\n",
    "while p not in pt_int:\n",
    "    intersection.append(p)\n",
    "    j = j+1\n",
    "    p = p1[(i+j)%len(p1)]\n",
    "\n",
    "intersection.append(p)\n",
    "\n",
    "k = p2.index(p)\n",
    "p = p2[k+1]\n",
    "j = 1\n",
    "while p not in pt_int:\n",
    "    intersection.append(p)\n",
    "    j = j+1\n",
    "    p = p2[(k+j)%(len(p2))]\n",
    "    \n",
    "intersection.append(p)\n",
    "print(intersection)"
   ]
  },
  {
   "cell_type": "code",
   "execution_count": 6,
   "metadata": {},
   "outputs": [
    {
     "name": "stdout",
     "output_type": "stream",
     "text": [
      "[[1.0, 1.0], [0.0, 2.0], [-2.0, 0.0], [-2.0, 0.0], [0.0, -2.0], [1.0, -1.0], [0.0, 0.0], [0.0, 0.0], [1.0, 1.0]]\n"
     ]
    }
   ],
   "source": [
    "#A-B\n",
    "\n",
    "pt_int = [int1[0][2],int1[1][2]]\n",
    "\n",
    "aminusb = [pt_int[0]]\n",
    "i = p1.index(pt_int[0])\n",
    "p = p1[i-1]\n",
    "j = 1\n",
    "while p not in pt_int:\n",
    "    aminusb.append(p)\n",
    "    j = j+1\n",
    "    p = p1[i-j]\n",
    "\n",
    "aminusb.append(p)\n",
    "\n",
    "k = p2.index(p)\n",
    "p = p2[k+1]\n",
    "j = 1\n",
    "while p not in pt_int:\n",
    "    aminusb.append(p)\n",
    "    j = j+1\n",
    "    p = p2[(k+j)%(len(p2))]\n",
    "    \n",
    "aminusb.append(p)\n",
    "print(aminusb)"
   ]
  },
  {
   "cell_type": "code",
   "execution_count": 20,
   "metadata": {},
   "outputs": [
    {
     "name": "stdout",
     "output_type": "stream",
     "text": [
      "[[1.0, 1.0], [2.0, 0.0], [1.0, -1.0], [2.0, -2.0], [4.0, 0.0], [2.0, 2.0], [1.0, 1.0]]\n"
     ]
    }
   ],
   "source": [
    "#B-A\n",
    "\n",
    "pt_int = [int1[0][2],int1[1][2]]\n",
    "\n",
    "bminusa = [pt_int[0]]\n",
    "i = p1.index(pt_int[0])\n",
    "p = p1[i+1]\n",
    "j = 1\n",
    "while p not in pt_int:\n",
    "    bminusa.append(p)\n",
    "    j = j+1\n",
    "    p = p1[(i+j)%len(p1)]\n",
    "\n",
    "bminusa.append(p)\n",
    "\n",
    "k = p2.index(p)\n",
    "p = p2[k-1]\n",
    "j = 1\n",
    "while p not in pt_int:\n",
    "    bminusa.append(p)\n",
    "    j = j+1\n",
    "    p = p2[k-j]\n",
    "    \n",
    "bminusa.append(p)\n",
    "print(bminusa)"
   ]
  },
  {
   "cell_type": "code",
   "execution_count": 21,
   "metadata": {},
   "outputs": [
    {
     "name": "stdout",
     "output_type": "stream",
     "text": [
      "[[1.0, 1.0], [0.0, 2.0], [-2.0, 0.0], [-2.0, 0.0], [0.0, -2.0], [1.0, -1.0], [0.0, 0.0], [0.0, 0.0], [1.0, 1.0], [1.0, 1.0], [2.0, 0.0], [1.0, -1.0], [2.0, -2.0], [4.0, 0.0], [2.0, 2.0], [1.0, 1.0]]\n"
     ]
    }
   ],
   "source": [
    "#A xor B\n",
    "\n",
    "axorb = aminusb\n",
    "for a in bminusa:\n",
    "    axorb.append(a)\n",
    "    \n",
    "print(axorb)"
   ]
  },
  {
   "cell_type": "code",
   "execution_count": null,
   "metadata": {},
   "outputs": [],
   "source": []
  }
 ],
 "metadata": {
  "kernelspec": {
   "display_name": "Python 3",
   "language": "python",
   "name": "python3"
  },
  "language_info": {
   "codemirror_mode": {
    "name": "ipython",
    "version": 3
   },
   "file_extension": ".py",
   "mimetype": "text/x-python",
   "name": "python",
   "nbconvert_exporter": "python",
   "pygments_lexer": "ipython3",
   "version": "3.6.7"
  }
 },
 "nbformat": 4,
 "nbformat_minor": 4
}
